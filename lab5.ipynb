{
 "cells": [
  {
   "cell_type": "markdown",
   "id": "091392e9",
   "metadata": {},
   "source": [
    "## Problema 1: Optimización Multiobjetivo en Distribución de Recursos para Misión Humanitaria"
   ]
  },
  {
   "cell_type": "markdown",
   "id": "3e59502f",
   "metadata": {},
   "source": [
    "## Problema 2: Optimización Multiobjetivo en Planificación de Rutas de Inspección"
   ]
  }
 ],
 "metadata": {
  "language_info": {
   "name": "python"
  }
 },
 "nbformat": 4,
 "nbformat_minor": 5
}
